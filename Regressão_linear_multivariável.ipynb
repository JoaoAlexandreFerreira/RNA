{
  "nbformat": 4,
  "nbformat_minor": 0,
  "metadata": {
    "colab": {
      "provenance": [],
      "authorship_tag": "ABX9TyPyUDmjJj/mtuzFYQoXXHTG",
      "include_colab_link": true
    },
    "kernelspec": {
      "name": "python3",
      "display_name": "Python 3"
    },
    "language_info": {
      "name": "python"
    }
  },
  "cells": [
    {
      "cell_type": "markdown",
      "metadata": {
        "id": "view-in-github",
        "colab_type": "text"
      },
      "source": [
        "<a href=\"https://colab.research.google.com/github/JoaoAlexandreFerreira/RNA/blob/main/Regress%C3%A3o_linear_multivari%C3%A1vel.ipynb\" target=\"_parent\"><img src=\"https://colab.research.google.com/assets/colab-badge.svg\" alt=\"Open In Colab\"/></a>"
      ]
    },
    {
      "cell_type": "markdown",
      "source": [
        "O exemplo é o mesmo da semana um, mas agora vamos estudar para várias variáveis de entrada, como o numero de quartos, numero de andares e a idade da casa, os arâmetros são definidos na imagem a seguir:\n",
        "![image.png](data:image/png;base64,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)\n",
        "\n",
        "No código isso resulta em:"
      ],
      "metadata": {
        "id": "FcNU_cs-_nxN"
      }
    },
    {
      "cell_type": "code",
      "execution_count": 1,
      "metadata": {
        "id": "zdR1OrEL_Zix"
      },
      "outputs": [],
      "source": [
        "import numpy as np\n",
        "import math\n",
        "import copy\n",
        "\n",
        "X_treino = np.array([[2104, 5, 1, 45], [1416, 3, 2, 40], [852, 2, 1, 35]])\n",
        "y_treino = np.array([460, 232, 178])"
      ]
    },
    {
      "cell_type": "code",
      "source": [
        "X_treino"
      ],
      "metadata": {
        "colab": {
          "base_uri": "https://localhost:8080/"
        },
        "id": "sVRnEm8oOhkB",
        "outputId": "341e870d-b65f-4ed9-a982-ad7db68fc78d"
      },
      "execution_count": 9,
      "outputs": [
        {
          "output_type": "execute_result",
          "data": {
            "text/plain": [
              "array([[2104,    5,    1,   45],\n",
              "       [1416,    3,    2,   40],\n",
              "       [ 852,    2,    1,   35]])"
            ]
          },
          "metadata": {},
          "execution_count": 9
        }
      ]
    },
    {
      "cell_type": "markdown",
      "source": [
        "W continua sendo uma matriz, mas agora recebe o número de parâmetros adotados"
      ],
      "metadata": {
        "id": "9plwQjRIAzIp"
      }
    },
    {
      "cell_type": "code",
      "source": [
        "b_ini = 785.1811367994083\n",
        "w_ini = np.array([ 0.39133535, 18.75376741, -53.36032453, -26.42131618])\n"
      ],
      "metadata": {
        "id": "7H-S0VxMA5yd"
      },
      "execution_count": 2,
      "outputs": []
    },
    {
      "cell_type": "code",
      "source": [
        "print(X_treino[0,:])"
      ],
      "metadata": {
        "id": "Hq4itQmQL6Fr",
        "outputId": "43dc812e-9d3a-4001-9e08-2b9a16a70de7",
        "colab": {
          "base_uri": "https://localhost:8080/"
        }
      },
      "execution_count": 3,
      "outputs": [
        {
          "output_type": "stream",
          "name": "stdout",
          "text": [
            "[2104    5    1   45]\n"
          ]
        }
      ]
    },
    {
      "cell_type": "markdown",
      "source": [
        "O modelo de predição continua sendo o mesmo, assim:\n",
        "\n",
        "![image.png](data:image/png;base64,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)"
      ],
      "metadata": {
        "id": "d7HvLnOFBh0g"
      }
    },
    {
      "cell_type": "code",
      "source": [
        "def predicao_elemento(x, w, b):\n",
        "\n",
        "    y = 0\n",
        "    for i in range(x.shape[0]):\n",
        "        y_i = x[i] * w[i]\n",
        "        y = y + y_i\n",
        "    y = y + b\n",
        "    return y\n",
        "#testando para uma entrada\n",
        "x_teste = X_treino[0,:]\n",
        "\n",
        "#predicao para os valores de peso e vies tomado\n",
        "f_w = predicao_elemento(x_teste, w_ini, b_ini)\n",
        "print(f\"f_wb shape {f_w.shape}, predição: {f_w}\")"
      ],
      "metadata": {
        "colab": {
          "base_uri": "https://localhost:8080/"
        },
        "id": "WGO1f9ZUBk8u",
        "outputId": "fe67daf2-0e58-4256-af44-d3794fee7bbb"
      },
      "execution_count": 4,
      "outputs": [
        {
          "output_type": "stream",
          "name": "stdout",
          "text": [
            "f_wb shape (), predição: 459.9999976194083\n"
          ]
        }
      ]
    },
    {
      "cell_type": "markdown",
      "source": [
        "ao inves disso podemos usar a multiplicação por vetor, exibida no código"
      ],
      "metadata": {
        "id": "Aw1jo8RcChQW"
      }
    },
    {
      "cell_type": "code",
      "source": [
        "def predicao(x, w, b):\n",
        "\n",
        "    y = np.dot(x, w) + b\n",
        "    return y\n",
        "#teste\n",
        "x_teste = X_treino[0,:]\n",
        "\n",
        "#predicao\n",
        "f_w = predicao(x_teste,w_ini, b_ini)\n",
        "print(f\"f_wb shape {f_w.shape}, predição: {f_w}\")"
      ],
      "metadata": {
        "colab": {
          "base_uri": "https://localhost:8080/"
        },
        "id": "OrL5lLveCltd",
        "outputId": "15ff3a8e-bbbc-486b-bd79-3d5ef6519501"
      },
      "execution_count": 5,
      "outputs": [
        {
          "output_type": "stream",
          "name": "stdout",
          "text": [
            "f_wb shape (), predição: 459.9999976194083\n"
          ]
        }
      ]
    },
    {
      "cell_type": "markdown",
      "source": [
        "De forma similar ao de uma entrada, agora vamos calcular o erro por:\n",
        "\n",
        "![image.png](data:image/png;base64,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)"
      ],
      "metadata": {
        "id": "DxvdzlzCDN0_"
      }
    },
    {
      "cell_type": "code",
      "source": [
        "def erro_medio_quad(x, y, w, b):\n",
        "\n",
        "\n",
        "    erro = 0.0\n",
        "    for i in range(x.shape[0]):\n",
        "        f_w_i = np.dot(x[i], w) + b\n",
        "        erro = erro + (f_w_i - y[i])**2\n",
        "    erro = erro / (2 * x.shape[0])\n",
        "    return erro\n",
        "# Compute and display cost using our pre-chosen optimal parameters.\n",
        "erro = erro_medio_quad(X_treino, y_treino, w_ini, b_ini)\n",
        "print(f'Erro com o peso w adotado: {erro}')"
      ],
      "metadata": {
        "colab": {
          "base_uri": "https://localhost:8080/"
        },
        "id": "cZ6DI2i1DuFm",
        "outputId": "e3b5423d-8954-441d-b08d-f577692f604b"
      },
      "execution_count": 6,
      "outputs": [
        {
          "output_type": "stream",
          "name": "stdout",
          "text": [
            "Erro com o peso w adotado: 1.5578904428966628e-12\n"
          ]
        }
      ]
    },
    {
      "cell_type": "markdown",
      "source": [
        "O gradiente descendente aqui é:\n",
        "\n",
        "![image.png](data:image/png;base64,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)\n",
        "\n",
        "Sendo o gradiente dado por:\n",
        "\n",
        "![image.png](data:image/png;base64,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)"
      ],
      "metadata": {
        "id": "UHW20dXkEtZw"
      }
    },
    {
      "cell_type": "code",
      "source": [
        "#Em cóodigo, é bem similar ao método anterior, começando pelo gradiente\n",
        "\n",
        "def gradiente(x, y, w, b):\n",
        "\n",
        "    m,n = x.shape           #(numero exemplos, numero de parametros)\n",
        "    dj_dw = np.zeros((n,))  #numero de pesos\n",
        "    dj_db = 0.0             #numero de peso, somente no fim\n",
        "\n",
        "    for i in range(m):\n",
        "        erro = (np.dot(x[i], w) + b) - y[i]\n",
        "        for j in range(n):\n",
        "            dj_dw[j] = dj_dw[j] + erro * x[i, j]\n",
        "        dj_db = dj_db + erro\n",
        "    dj_dw = dj_dw / m\n",
        "    dj_db = dj_db / m\n",
        "\n",
        "    return dj_db, dj_dw\n",
        "#Compute and display gradient\n",
        "tmp_dj_db, tmp_dj_dw = gradiente(X_treino, y_treino, w_ini, b_ini)\n",
        "print(f'dj_db inicial para w,b adotado: {tmp_dj_db}')\n",
        "print(f'dj_dw inicial para w,b adotado: \\n {tmp_dj_dw}')"
      ],
      "metadata": {
        "colab": {
          "base_uri": "https://localhost:8080/"
        },
        "id": "qz_sd9uEE6CV",
        "outputId": "3b251d2e-5e96-40b7-93d2-f78643c0b094"
      },
      "execution_count": 7,
      "outputs": [
        {
          "output_type": "stream",
          "name": "stdout",
          "text": [
            "dj_db inicial para w,b adotado: -1.6739251501955248e-06\n",
            "dj_dw inicial para w,b adotado: \n",
            " [-2.72623577e-03 -6.27197263e-06 -2.21745578e-06 -6.92403391e-05]\n"
          ]
        }
      ]
    },
    {
      "cell_type": "markdown",
      "source": [
        "Agora, podemos partir para o código do gradiente descendente"
      ],
      "metadata": {
        "id": "W0PGErfeGDXq"
      }
    },
    {
      "cell_type": "code",
      "source": [
        "def gradiente_descendente(x, y, w_ini, b_ini, alpha, num_interacoes, emq, gradiente):\n",
        "\n",
        "    #Uma lista pra salvar o histórico do erro\n",
        "    J_history = []\n",
        "    w = copy.deepcopy(w_ini)  #copiando os valores do peso inicial\n",
        "    b = b_ini\n",
        "    w = w_ini\n",
        "\n",
        "    for i in range(num_interacoes):\n",
        "\n",
        "        #Gradiente, atualizando os seus parâmetros\n",
        "        dj_db,dj_dw = gradiente(x, y, w, b)\n",
        "\n",
        "        #Atualizando o peso e o vies\n",
        "        w = w - alpha * dj_dw\n",
        "        b = b - alpha * dj_db\n",
        "\n",
        "        #Anotando os valores para J\n",
        "        if i<100000:\n",
        "            J_history.append(emq(x, y, w, b))\n",
        "\n",
        "        # printando\n",
        "        if i% math.ceil(num_interacoes / 10) == 0:\n",
        "            print(f\"Interação {i:4d}: Erro {J_history[-1]:8.2f}   \")\n",
        "\n",
        "    return w, b, J_history\n",
        "\n",
        "#Iniciando os pesos e vieses como 0\n",
        "w_inic = np.zeros_like(w_ini)\n",
        "b_inic = 0.\n",
        "\n",
        "interacoes = 1000\n",
        "taxa_apr = 5.0e-7\n",
        "#Execução do grandiente descendente para atualizar os pesos\n",
        "w_final, b_final, J_hist = gradiente_descendente(X_treino, y_treino, w_inic, b_inic, taxa_apr, interacoes, erro_medio_quad, gradiente)\n",
        "print(f\"b,w encontrado pelo gradiente descendente: {b_final:0.2f},{w_final} \")\n",
        "\n",
        "\n",
        "for i in range(len(X_treino)):\n",
        "    print(f\"predição: {np.dot(X_treino[i], w_final) + b_final:0.2f}, valor real: {y_treino[i]}\")"
      ],
      "metadata": {
        "colab": {
          "base_uri": "https://localhost:8080/"
        },
        "id": "Vp57aCVuGGmw",
        "outputId": "00e8d0ca-0483-44ce-ad11-4739adbae6cd"
      },
      "execution_count": 8,
      "outputs": [
        {
          "output_type": "stream",
          "name": "stdout",
          "text": [
            "Interação    0: Erro  2529.46   \n",
            "Interação  100: Erro   695.99   \n",
            "Interação  200: Erro   694.92   \n",
            "Interação  300: Erro   693.86   \n",
            "Interação  400: Erro   692.81   \n",
            "Interação  500: Erro   691.77   \n",
            "Interação  600: Erro   690.73   \n",
            "Interação  700: Erro   689.71   \n",
            "Interação  800: Erro   688.70   \n",
            "Interação  900: Erro   687.69   \n",
            "b,w encontrado pelo gradiente descendente: -0.00,[ 0.20396569  0.00374919 -0.0112487  -0.0658614 ] \n",
            "predição: 426.19, valor real: 460\n",
            "predição: 286.17, valor real: 232\n",
            "predição: 171.47, valor real: 178\n"
          ]
        }
      ]
    }
  ]
}