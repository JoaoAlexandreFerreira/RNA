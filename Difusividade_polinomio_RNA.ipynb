{
  "nbformat": 4,
  "nbformat_minor": 0,
  "metadata": {
    "colab": {
      "provenance": [],
      "authorship_tag": "ABX9TyPe3xBZiJpgvkwEmsOZ8g8a",
      "include_colab_link": true
    },
    "kernelspec": {
      "name": "python3",
      "display_name": "Python 3"
    },
    "language_info": {
      "name": "python"
    }
  },
  "cells": [
    {
      "cell_type": "markdown",
      "metadata": {
        "id": "view-in-github",
        "colab_type": "text"
      },
      "source": [
        "<a href=\"https://colab.research.google.com/github/JoaoAlexandreFerreira/RNA/blob/main/Difusividade_polinomio_RNA.ipynb\" target=\"_parent\"><img src=\"https://colab.research.google.com/assets/colab-badge.svg\" alt=\"Open In Colab\"/></a>"
      ]
    },
    {
      "cell_type": "code",
      "execution_count": 1,
      "metadata": {
        "id": "kiM_qD_uuoxT"
      },
      "outputs": [],
      "source": [
        "import tensorflow as tf\n",
        "from scipy.io import loadmat\n",
        "import numpy as np\n",
        "import keras\n",
        "import matplotlib.pyplot as plt\n",
        "import pandas as pd\n",
        "from keras import Sequential\n",
        "from keras.layers import Input, Dense\n",
        "from time import time\n",
        "from keras.optimizers import Adam, SGD, Adagrad, AdamW, RMSprop, Adadelta\n",
        "from keras.initializers import Ones, GlorotNormal, he_normal, Zeros\n",
        "from mpl_toolkits.mplot3d import Axes3D\n",
        "import pandas as pd\n",
        "from mpl_toolkits.axes_grid1 import make_axes_locatable\n",
        "import scipy.optimize\n",
        "import matplotlib.animation as animation\n",
        "from matplotlib.animation import FuncAnimation\n",
        "from IPython.display import display, Image, HTML"
      ]
    },
    {
      "cell_type": "code",
      "source": [
        "keras.backend.set_floatx('float32')\n",
        "tf.random.set_seed(1)\n",
        "np.random.seed(1)"
      ],
      "metadata": {
        "id": "GDUihXFXurXP"
      },
      "execution_count": 2,
      "outputs": []
    },
    {
      "cell_type": "code",
      "source": [
        "T = np.array([np.linspace(300, 500, 100)]).T\n",
        "v = 2.21 #m/s\n",
        "psimeg = 2.6 #parametro do solvente\n",
        "Mmeg = 1.98+2*5.48 #Peso molecular do meg, em g/mol\n",
        "mi = 0.891 #Viscosidade da solução, centipoises\n",
        "Va = 55.7582 #Volume molar do soluto, em cm³/g*mol\n",
        "Difus = 7.4e-8 *((np.sqrt(psimeg*Mmeg)*T)/(mi*Va**0.6))\n",
        "\n",
        "T_data = T[0:200: 7]\n",
        "Difus_data = Difus[0:200: 7]"
      ],
      "metadata": {
        "id": "LAdETCf6ut6B"
      },
      "execution_count": 3,
      "outputs": []
    },
    {
      "cell_type": "code",
      "source": [
        "#Criando o modelo da rede neural\n",
        "\n",
        "modelo = Sequential()\n",
        "modelo.add(tf.keras.layers.Input(shape=(1,)))\n",
        "#No paper de su é informado que ele inicia pelo número de camadas ocultas, com 10 neuronios/nos\n",
        "#Começando uma análise com duas camadas ocultas\n",
        "\n",
        "for i in range(1):\n",
        "  modelo.add(Dense(units=3, activation='sigmoid'))\n",
        "\n",
        "#camaada de saída\n",
        "\n",
        "modelo.add(Dense(units=1,activation = 'linear'))\n",
        "modelo.summary()"
      ],
      "metadata": {
        "colab": {
          "base_uri": "https://localhost:8080/"
        },
        "id": "ARb9QG_Muv_a",
        "outputId": "b3733e8a-4e51-4494-e06b-ff85417286b6"
      },
      "execution_count": 4,
      "outputs": [
        {
          "output_type": "stream",
          "name": "stdout",
          "text": [
            "Model: \"sequential\"\n",
            "_________________________________________________________________\n",
            " Layer (type)                Output Shape              Param #   \n",
            "=================================================================\n",
            " dense (Dense)               (None, 3)                 6         \n",
            "                                                                 \n",
            " dense_1 (Dense)             (None, 1)                 4         \n",
            "                                                                 \n",
            "=================================================================\n",
            "Total params: 10 (40.00 Byte)\n",
            "Trainable params: 10 (40.00 Byte)\n",
            "Non-trainable params: 0 (0.00 Byte)\n",
            "_________________________________________________________________\n"
          ]
        }
      ]
    },
    {
      "cell_type": "code",
      "source": [
        "#Criando o modelo da rede neural\n",
        "\n",
        "modelo1 = Sequential()\n",
        "modelo1.add(tf.keras.layers.Input(shape=(3,)))\n",
        "#No paper de su é informado que ele inicia pelo número de camadas ocultas, com 10 neuronios/nos\n",
        "#Começando uma análise com duas camadas ocultas\n",
        "\n",
        "for i in range(1):\n",
        "  modelo1.add(Dense(units=3, activation='sigmoid'))\n",
        "\n",
        "#camaada de saída\n",
        "\n",
        "modelo1.add(Dense(units=1,activation = 'linear'))\n",
        "modelo1.summary()"
      ],
      "metadata": {
        "colab": {
          "base_uri": "https://localhost:8080/"
        },
        "id": "HmGpmETtvEk-",
        "outputId": "79a43240-e3ac-4f31-f38c-44f56d0fcae7"
      },
      "execution_count": 6,
      "outputs": [
        {
          "output_type": "stream",
          "name": "stdout",
          "text": [
            "Model: \"sequential_2\"\n",
            "_________________________________________________________________\n",
            " Layer (type)                Output Shape              Param #   \n",
            "=================================================================\n",
            " dense_4 (Dense)             (None, 3)                 12        \n",
            "                                                                 \n",
            " dense_5 (Dense)             (None, 1)                 4         \n",
            "                                                                 \n",
            "=================================================================\n",
            "Total params: 16 (64.00 Byte)\n",
            "Trainable params: 16 (64.00 Byte)\n",
            "Non-trainable params: 0 (0.00 Byte)\n",
            "_________________________________________________________________\n"
          ]
        }
      ]
    },
    {
      "cell_type": "code",
      "source": [
        "#Criando o modelo da rede neural\n",
        "\n",
        "modelo2 = Sequential()\n",
        "modelo2.add(tf.keras.layers.Input(shape=(5,)))\n",
        "#No paper de su é informado que ele inicia pelo número de camadas ocultas, com 10 neuronios/nos\n",
        "#Começando uma análise com duas camadas ocultas\n",
        "\n",
        "for i in range(1):\n",
        "  modelo2.add(Dense(units=3, activation='sigmoid'))\n",
        "\n",
        "#camaada de saída\n",
        "\n",
        "modelo2.add(Dense(units=1,activation = 'linear'))\n",
        "modelo2.summary()"
      ],
      "metadata": {
        "colab": {
          "base_uri": "https://localhost:8080/"
        },
        "id": "DbiCzslyvP32",
        "outputId": "88823f6c-e131-45d2-aff8-f795c60ac76f"
      },
      "execution_count": 7,
      "outputs": [
        {
          "output_type": "stream",
          "name": "stdout",
          "text": [
            "Model: \"sequential_3\"\n",
            "_________________________________________________________________\n",
            " Layer (type)                Output Shape              Param #   \n",
            "=================================================================\n",
            " dense_6 (Dense)             (None, 3)                 18        \n",
            "                                                                 \n",
            " dense_7 (Dense)             (None, 1)                 4         \n",
            "                                                                 \n",
            "=================================================================\n",
            "Total params: 22 (88.00 Byte)\n",
            "Trainable params: 22 (88.00 Byte)\n",
            "Non-trainable params: 0 (0.00 Byte)\n",
            "_________________________________________________________________\n"
          ]
        }
      ]
    },
    {
      "cell_type": "code",
      "source": [],
      "metadata": {
        "id": "kIQhi6a8vWue"
      },
      "execution_count": null,
      "outputs": []
    }
  ]
}